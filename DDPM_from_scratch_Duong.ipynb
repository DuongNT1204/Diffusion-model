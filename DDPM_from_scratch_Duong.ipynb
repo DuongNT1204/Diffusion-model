{
  "nbformat": 4,
  "nbformat_minor": 0,
  "metadata": {
    "colab": {
      "provenance": [],
      "gpuType": "T4"
    },
    "kernelspec": {
      "name": "python3",
      "display_name": "Python 3"
    },
    "language_info": {
      "name": "python"
    },
    "accelerator": "GPU"
  },
  "cells": [
    {
      "cell_type": "code",
      "execution_count": 1,
      "metadata": {
        "id": "UbhccYxlvt0R"
      },
      "outputs": [],
      "source": [
        "from typing import Optional, Tuple, Union, List\n",
        "import torch\n",
        "import torch.nn.functional as F\n",
        "import torch.utils.data\n",
        "from torch import nn\n",
        "import math\n",
        "from torch.utils.data import DataLoader\n",
        "from torchvision import datasets, transforms\n",
        "from torch import optim\n",
        "import torchvision\n",
        "from matplotlib import pyplot as plt\n",
        "import numpy as np\n",
        "import pandas as pd\n"
      ]
    },
    {
      "cell_type": "code",
      "source": [
        "class DiffusionForwardProcess:\n",
        "\n",
        "    def __init__(self,\n",
        "                 num_time_steps = 1000,\n",
        "                 beta_start = 1e-4,\n",
        "                 beta_end = 0.02\n",
        "                ):\n",
        "\n",
        "        # khởi tạo beta, alpha,....\n",
        "        self.betas = torch.linspace(beta_start, beta_end, num_time_steps)\n",
        "        self.alphas = 1 - self.betas\n",
        "        self.alpha_bars = torch.cumprod(self.alphas, dim=0)\n",
        "        self.sqrt_alpha_bars = torch.sqrt(self.alpha_bars)\n",
        "        self.sqrt_one_minus_alpha_bars = torch.sqrt(1 - self.alpha_bars)\n",
        "\n",
        "    def add_noise(self, original, noise, t):\n",
        "\n",
        "        sqrt_alpha_bar_t = self.sqrt_alpha_bars.to(original.device)[t]\n",
        "        sqrt_one_minus_alpha_bar_t = self.sqrt_one_minus_alpha_bars.to(original.device)[t]\n",
        "\n",
        "        # Broadcast to multiply with the original image.\n",
        "        sqrt_alpha_bar_t = sqrt_alpha_bar_t[:, None, None, None]\n",
        "        sqrt_one_minus_alpha_bar_t = sqrt_one_minus_alpha_bar_t[:, None, None, None]\n",
        "\n",
        "        return (sqrt_alpha_bar_t * original + sqrt_one_minus_alpha_bar_t * noise)"
      ],
      "metadata": {
        "id": "fqiIctKBv0Iu"
      },
      "execution_count": 2,
      "outputs": []
    },
    {
      "cell_type": "code",
      "source": [
        "# Test\n",
        "original = torch.randn(4, 1, 28, 28)\n",
        "noise = torch.randn(4, 1, 28, 28)\n",
        "t_steps = torch.randint(0, 1000, (4,))\n",
        "\n",
        "# Forward Process\n",
        "dfp = DiffusionForwardProcess()\n",
        "out = dfp.add_noise(original, noise, t_steps)\n",
        "out.shape"
      ],
      "metadata": {
        "colab": {
          "base_uri": "https://localhost:8080/"
        },
        "id": "UTvOOyQLv2HV",
        "outputId": "665f3033-520a-4d6f-ed8e-457f6f9d2b9b"
      },
      "execution_count": 3,
      "outputs": [
        {
          "output_type": "execute_result",
          "data": {
            "text/plain": [
              "torch.Size([4, 1, 28, 28])"
            ]
          },
          "metadata": {},
          "execution_count": 3
        }
      ]
    },
    {
      "cell_type": "code",
      "source": [
        "class DiffusionReverseProcess:\n",
        "\n",
        "    def __init__(self,\n",
        "                 num_time_steps = 1000,\n",
        "                 beta_start = 1e-4,\n",
        "                 beta_end = 0.02\n",
        "                ):\n",
        "\n",
        "        # Tính a, b theo từng time_step\n",
        "        self.b = torch.linspace(beta_start, beta_end, num_time_steps) # b -> beta\n",
        "        self.a = 1 - self.b # a -> alpha\n",
        "        self.a_bar = torch.cumprod(self.a, dim=0) # a_bar = alpha_bar\n",
        "\n",
        "    def sample_prev_timestep(self, xt, noise_pred, t):\n",
        "\n",
        "        # Dự đoán x0 theo từng time_step\n",
        "        x0 = xt - (torch.sqrt(1 - self.a_bar.to(xt.device)[t]) * noise_pred)\n",
        "        x0 = x0/torch.sqrt(self.a_bar.to(xt.device)[t])\n",
        "        x0 = torch.clamp(x0, -1., 1.)\n",
        "\n",
        "        # mean of x_(t-1)\n",
        "        mean = (xt - ((1 - self.a.to(xt.device)[t]) * noise_pred)/(torch.sqrt(1 - self.a_bar.to(xt.device)[t])))\n",
        "        mean = mean/(torch.sqrt(self.a.to(xt.device)[t]))\n",
        "\n",
        "        # nếu t = 0 thì chỉ lấy mean\n",
        "        if t == 0:\n",
        "            return mean, x0\n",
        "\n",
        "        else:\n",
        "            variance =  (1 - self.a_bar.to(xt.device)[t-1])/(1 - self.a_bar.to(xt.device)[t])\n",
        "            variance = variance * self.b.to(xt.device)[t]\n",
        "            sigma = variance**0.5\n",
        "            z = torch.randn(xt.shape).to(xt.device)\n",
        "\n",
        "            return mean + sigma * z, x0"
      ],
      "metadata": {
        "id": "l_ur0YNWv3nl"
      },
      "execution_count": 4,
      "outputs": []
    },
    {
      "cell_type": "code",
      "source": [
        "# Test\n",
        "original = torch.randn(1, 1, 28, 28)\n",
        "noise_pred = torch.randn(1, 1, 28, 28)\n",
        "t = torch.randint(0, 1000, (1,))\n",
        "\n",
        "# Forward Process\n",
        "drp = DiffusionReverseProcess()\n",
        "out, x0 = drp.sample_prev_timestep(original, noise_pred, t)\n",
        "out.shape"
      ],
      "metadata": {
        "colab": {
          "base_uri": "https://localhost:8080/"
        },
        "id": "vv4Rb0P4v59d",
        "outputId": "0936b34b-ec04-461d-9639-aa04da803a0b"
      },
      "execution_count": 5,
      "outputs": [
        {
          "output_type": "execute_result",
          "data": {
            "text/plain": [
              "torch.Size([1, 1, 28, 28])"
            ]
          },
          "metadata": {},
          "execution_count": 5
        }
      ]
    },
    {
      "cell_type": "code",
      "source": [
        "def get_time_embedding(\n",
        "    time_steps: torch.Tensor,\n",
        "    t_emb_dim: int):\n",
        "\n",
        "    factor = 2 * torch.arange(start = 0,\n",
        "                              end = t_emb_dim//2,\n",
        "                              dtype=torch.float32,\n",
        "                              device=time_steps.device\n",
        "                             ) / (t_emb_dim)\n",
        "    factor = 10000**factor\n",
        "    t_emb = time_steps[:,None]\n",
        "    t_emb = t_emb/factor\n",
        "    t_emb = torch.cat([torch.sin(t_emb), torch.cos(t_emb)], dim=1)\n",
        "\n",
        "    return t_emb"
      ],
      "metadata": {
        "id": "kTAs8mk0v7n0"
      },
      "execution_count": 6,
      "outputs": []
    },
    {
      "cell_type": "code",
      "source": [
        "class NormActConv(nn.Module):\n",
        "    def __init__(self,\n",
        "                 in_channels:int,\n",
        "                 out_channels:int,\n",
        "                 num_groups:int = 8,\n",
        "                 kernel_size: int = 3,\n",
        "                 norm:bool = True,\n",
        "                 act:bool = True\n",
        "                ):\n",
        "        super(NormActConv, self).__init__()\n",
        "\n",
        "        # GroupNorm\n",
        "        self.g_norm = nn.GroupNorm(\n",
        "            num_groups,\n",
        "            in_channels\n",
        "        ) if norm is True else nn.Identity()\n",
        "\n",
        "        # Activation\n",
        "        self.act = nn.SiLU() if act is True else nn.Identity()\n",
        "\n",
        "        # Convolution\n",
        "        self.conv = nn.Conv2d(\n",
        "            in_channels,\n",
        "            out_channels,\n",
        "            kernel_size,\n",
        "            padding=(kernel_size - 1)//2\n",
        "        )\n",
        "\n",
        "    def forward(self, x):\n",
        "        x = self.g_norm(x)\n",
        "        x = self.act(x)\n",
        "        x = self.conv(x)\n",
        "        return x\n",
        "\n",
        "class TimeEmbedding(nn.Module):\n",
        "\n",
        "    def __init__(self,\n",
        "                 n_out:int,\n",
        "                 t_emb_dim:int = 128\n",
        "                ):\n",
        "        super(TimeEmbedding, self).__init__()\n",
        "\n",
        "        self.te_block = nn.Sequential(\n",
        "            nn.SiLU(),\n",
        "            nn.Linear(t_emb_dim, n_out)\n",
        "        )\n",
        "\n",
        "    def forward(self, x):\n",
        "        return self.te_block(x)\n",
        "\n",
        "class SelfAttentionBlock(nn.Module):\n",
        "\n",
        "    def __init__(self,\n",
        "                 num_channels:int,\n",
        "                 num_groups:int = 8,\n",
        "                 num_heads:int = 4,\n",
        "                 norm:bool = True\n",
        "                ):\n",
        "        super(SelfAttentionBlock, self).__init__()\n",
        "\n",
        "        # GroupNorm\n",
        "        self.g_norm = nn.GroupNorm(\n",
        "            num_groups,\n",
        "            num_channels\n",
        "        ) if norm is True else nn.Identity()\n",
        "\n",
        "        # Self-Attention\n",
        "        self.attn = nn.MultiheadAttention(\n",
        "            num_channels,\n",
        "            num_heads,\n",
        "            batch_first=True\n",
        "        )\n",
        "\n",
        "    def forward(self, x):\n",
        "        batch_size, channels, h, w = x.shape\n",
        "        x = x.reshape(batch_size, channels, h*w)\n",
        "        x = self.g_norm(x)\n",
        "        x = x.transpose(1, 2)\n",
        "        x, _ = self.attn(x, x, x)\n",
        "        x = x.transpose(1, 2).reshape(batch_size, channels, h, w)\n",
        "        return x\n",
        "\n",
        "\n",
        "class Downsample(nn.Module):\n",
        "\n",
        "    def __init__(self,\n",
        "                 in_channels:int,\n",
        "                 out_channels:int,\n",
        "                 k:int = 2,\n",
        "                 use_conv:bool = True,\n",
        "                 use_mpool:bool = True\n",
        "                ):\n",
        "        super(Downsample, self).__init__()\n",
        "\n",
        "        self.use_conv = use_conv\n",
        "        self.use_mpool = use_mpool\n",
        "\n",
        "        # using Convolution\n",
        "        self.cv = nn.Sequential(\n",
        "            nn.Conv2d(in_channels, in_channels, kernel_size=1),\n",
        "            nn.Conv2d(\n",
        "                in_channels,\n",
        "                out_channels//2 if use_mpool else out_channels,\n",
        "                kernel_size=4,\n",
        "                stride=k,\n",
        "                padding=1\n",
        "            )\n",
        "        ) if use_conv else nn.Identity()\n",
        "\n",
        "        # using Maxpool\n",
        "        self.mpool = nn.Sequential(\n",
        "            nn.MaxPool2d(k, k),\n",
        "            nn.Conv2d(\n",
        "                in_channels,\n",
        "                out_channels//2 if use_conv else out_channels,\n",
        "                kernel_size=1,\n",
        "                stride=1,\n",
        "                padding=0\n",
        "            )\n",
        "        ) if use_mpool else nn.Identity()\n",
        "\n",
        "    def forward(self, x):\n",
        "\n",
        "        if not self.use_conv:\n",
        "            return self.mpool(x)\n",
        "\n",
        "        if not self.use_mpool:\n",
        "            return self.cv(x)\n",
        "\n",
        "        return torch.cat([self.cv(x), self.mpool(x)], dim=1)\n",
        "\n",
        "\n",
        "class Upsample(nn.Module):\n",
        "\n",
        "    def __init__(self,\n",
        "                 in_channels:int,\n",
        "                 out_channels:int,\n",
        "                 k:int = 2,\n",
        "                 use_conv:bool = True,\n",
        "                 use_upsample:bool = True\n",
        "                ):\n",
        "        super(Upsample, self).__init__()\n",
        "\n",
        "        self.use_conv = use_conv\n",
        "        self.use_upsample = use_upsample\n",
        "\n",
        "        #using conv\n",
        "        self.cv = nn.Sequential(\n",
        "            nn.ConvTranspose2d(\n",
        "                in_channels,\n",
        "                out_channels//2 if use_upsample else out_channels,\n",
        "                kernel_size=4,\n",
        "                stride=k,\n",
        "                padding=1\n",
        "            ),\n",
        "            nn.Conv2d(\n",
        "                out_channels//2 if use_upsample else out_channels,\n",
        "                out_channels//2 if use_upsample else out_channels,\n",
        "                kernel_size = 1,\n",
        "                stride=1,\n",
        "                padding=0\n",
        "            )\n",
        "        ) if use_conv else nn.Identity()\n",
        "\n",
        "        # using nn.Upsample\n",
        "        self.up = nn.Sequential(\n",
        "            nn.Upsample(\n",
        "                scale_factor=k,\n",
        "                mode = 'bilinear',\n",
        "                align_corners=False\n",
        "            ),\n",
        "            nn.Conv2d(\n",
        "                in_channels,\n",
        "                out_channels//2 if use_conv else out_channels,\n",
        "                kernel_size=1,\n",
        "                stride=1,\n",
        "                padding=0\n",
        "            )\n",
        "        ) if use_upsample else nn.Identity()\n",
        "\n",
        "    def forward(self, x):\n",
        "\n",
        "        if not self.use_conv:\n",
        "            return self.up(x)\n",
        "\n",
        "        if not self.use_upsample:\n",
        "            return self.cv(x)\n",
        "\n",
        "        return torch.cat([self.cv(x), self.up(x)], dim=1)"
      ],
      "metadata": {
        "id": "6yys5s95v9mF"
      },
      "execution_count": 7,
      "outputs": []
    },
    {
      "cell_type": "code",
      "source": [
        "layer = Upsample(16, 32, 2, True, True)\n",
        "x = torch.randn(4, 16, 32, 32)\n",
        "layer(x).shape"
      ],
      "metadata": {
        "colab": {
          "base_uri": "https://localhost:8080/"
        },
        "id": "barUolu-wB3t",
        "outputId": "67e2c8a9-99dd-46b9-de6e-6cc0ccfb7790"
      },
      "execution_count": 8,
      "outputs": [
        {
          "output_type": "execute_result",
          "data": {
            "text/plain": [
              "torch.Size([4, 32, 64, 64])"
            ]
          },
          "metadata": {},
          "execution_count": 8
        }
      ]
    },
    {
      "cell_type": "code",
      "source": [
        "class DownC(nn.Module):\n",
        "\n",
        "    def __init__(self,\n",
        "                 in_channels:int,\n",
        "                 out_channels:int,\n",
        "                 t_emb_dim:int = 128, # Time Embedding\n",
        "                 num_layers:int=2,\n",
        "                 down_sample:bool = True\n",
        "                ):\n",
        "        super(DownC, self).__init__()\n",
        "\n",
        "        self.num_layers = num_layers\n",
        "\n",
        "        self.conv1 = nn.ModuleList([\n",
        "            NormActConv(in_channels if i==0 else out_channels,\n",
        "                        out_channels\n",
        "                       ) for i in range(num_layers)\n",
        "        ])\n",
        "\n",
        "        self.conv2 = nn.ModuleList([\n",
        "            NormActConv(out_channels,\n",
        "                        out_channels\n",
        "                       ) for _ in range(num_layers)\n",
        "        ])\n",
        "\n",
        "        self.te_block = nn.ModuleList([\n",
        "            TimeEmbedding(out_channels, t_emb_dim) for _ in range(num_layers)\n",
        "        ])\n",
        "\n",
        "        self.attn_block = nn.ModuleList([\n",
        "            SelfAttentionBlock(out_channels) for _ in range(num_layers)\n",
        "        ])\n",
        "\n",
        "        self.down_block =Downsample(out_channels, out_channels) if down_sample else nn.Identity()\n",
        "\n",
        "        self.res_block = nn.ModuleList([\n",
        "            nn.Conv2d(\n",
        "                in_channels if i==0 else out_channels,\n",
        "                out_channels,\n",
        "                kernel_size=1\n",
        "            ) for i in range(num_layers)\n",
        "        ])\n",
        "\n",
        "    def forward(self, x, t_emb):\n",
        "\n",
        "        out = x\n",
        "\n",
        "        for i in range(self.num_layers):\n",
        "            resnet_input = out\n",
        "\n",
        "            out = self.conv1[i](out)\n",
        "            out = out + self.te_block[i](t_emb)[:, :, None, None]\n",
        "            out = self.conv2[i](out)\n",
        "            out = out + self.res_block[i](resnet_input)\n",
        "            #attn\n",
        "            out_attn = self.attn_block[i](out)\n",
        "            out = out + out_attn\n",
        "\n",
        "        out = self.down_block(out)\n",
        "\n",
        "        return out"
      ],
      "metadata": {
        "id": "w-JBTM4uwDV-"
      },
      "execution_count": 9,
      "outputs": []
    },
    {
      "cell_type": "code",
      "source": [
        "class MidC(nn.Module):\n",
        "\n",
        "    def __init__(self,\n",
        "                 in_channels:int,\n",
        "                 out_channels:int,\n",
        "                 t_emb_dim:int = 128,\n",
        "                 num_layers:int = 2\n",
        "                ):\n",
        "        super(MidC, self).__init__()\n",
        "\n",
        "        self.num_layers = num_layers\n",
        "\n",
        "        self.conv1 = nn.ModuleList([\n",
        "            NormActConv(in_channels if i==0 else out_channels,\n",
        "                        out_channels\n",
        "                       ) for i in range(num_layers + 1)\n",
        "        ])\n",
        "\n",
        "        self.conv2 = nn.ModuleList([\n",
        "            NormActConv(out_channels,\n",
        "                        out_channels\n",
        "                       ) for _ in range(num_layers + 1)\n",
        "        ])\n",
        "\n",
        "        self.te_block = nn.ModuleList([\n",
        "            TimeEmbedding(out_channels, t_emb_dim) for _ in range(num_layers + 1)\n",
        "        ])\n",
        "\n",
        "        self.attn_block = nn.ModuleList([\n",
        "            SelfAttentionBlock(out_channels) for _ in range(num_layers)\n",
        "        ])\n",
        "\n",
        "        self.res_block = nn.ModuleList([\n",
        "            nn.Conv2d(\n",
        "                in_channels if i==0 else out_channels,\n",
        "                out_channels,\n",
        "                kernel_size=1\n",
        "            ) for i in range(num_layers + 1)\n",
        "        ])\n",
        "\n",
        "    def forward(self, x, t_emb):\n",
        "        out = x\n",
        "\n",
        "        resnet_input = out\n",
        "        out = self.conv1[0](out)\n",
        "        out = out + self.te_block[0](t_emb)[:, :, None, None]\n",
        "        out = self.conv2[0](out)\n",
        "        out = out + self.res_block[0](resnet_input)\n",
        "\n",
        "        # Self-Attention + Resnet Blocks\n",
        "        for i in range(self.num_layers):\n",
        "            out_attn = self.attn_block[i](out)\n",
        "            out = out + out_attn\n",
        "\n",
        "            resnet_input = out\n",
        "            out = self.conv1[i+1](out)\n",
        "            out = out + self.te_block[i+1](t_emb)[:, :, None, None]\n",
        "            out = self.conv2[i+1](out)\n",
        "            out = out + self.res_block[i+1](resnet_input)\n",
        "\n",
        "        return out"
      ],
      "metadata": {
        "id": "G5FBwK7-wIp1"
      },
      "execution_count": 10,
      "outputs": []
    },
    {
      "cell_type": "code",
      "source": [
        "class UpC(nn.Module):\n",
        "\n",
        "    def __init__(self,\n",
        "                 in_channels:int,\n",
        "                 out_channels:int,\n",
        "                 t_emb_dim:int = 128,\n",
        "                 num_layers:int = 2,\n",
        "                 up_sample:bool = True\n",
        "                ):\n",
        "        super(UpC, self).__init__()\n",
        "\n",
        "        self.num_layers = num_layers\n",
        "\n",
        "        self.conv1 = nn.ModuleList([\n",
        "            NormActConv(in_channels if i==0 else out_channels,\n",
        "                        out_channels\n",
        "                       ) for i in range(num_layers)\n",
        "        ])\n",
        "\n",
        "        self.conv2 = nn.ModuleList([\n",
        "            NormActConv(out_channels,\n",
        "                        out_channels\n",
        "                       ) for _ in range(num_layers)\n",
        "        ])\n",
        "\n",
        "        self.te_block = nn.ModuleList([\n",
        "            TimeEmbedding(out_channels, t_emb_dim) for _ in range(num_layers)\n",
        "        ])\n",
        "\n",
        "        self.attn_block = nn.ModuleList([\n",
        "            SelfAttentionBlock(out_channels) for _ in range(num_layers)\n",
        "        ])\n",
        "\n",
        "        self.up_block =Upsample(in_channels, in_channels//2) if up_sample else nn.Identity()\n",
        "\n",
        "        self.res_block = nn.ModuleList([\n",
        "            nn.Conv2d(\n",
        "                in_channels if i==0 else out_channels,\n",
        "                out_channels,\n",
        "                kernel_size=1\n",
        "            ) for i in range(num_layers)\n",
        "        ])\n",
        "\n",
        "    def forward(self, x, down_out, t_emb):\n",
        "\n",
        "        # Upsampling\n",
        "        x = self.up_block(x)\n",
        "        x = torch.cat([x, down_out], dim=1)\n",
        "\n",
        "        out = x\n",
        "        for i in range(self.num_layers):\n",
        "            resnet_input = out\n",
        "            out = self.conv1[i](out)\n",
        "            out = out + self.te_block[i](t_emb)[:, :, None, None]\n",
        "            out = self.conv2[i](out)\n",
        "            out = out + self.res_block[i](resnet_input)\n",
        "\n",
        "            out_attn = self.attn_block[i](out)\n",
        "            out = out + out_attn\n",
        "\n",
        "        return out"
      ],
      "metadata": {
        "id": "qoNft54xwK1d"
      },
      "execution_count": 11,
      "outputs": []
    },
    {
      "cell_type": "code",
      "source": [
        "class Unet(nn.Module):\n",
        "\n",
        "    def __init__(self,\n",
        "                 im_channels: int = 1, # RGB\n",
        "                 down_ch: list = [32, 64, 128, 256],\n",
        "                 mid_ch: list = [256, 256, 128],\n",
        "                 up_ch: list[int] = [256, 128, 64, 16],\n",
        "                 down_sample: list[bool] = [True, True, False],\n",
        "                 t_emb_dim: int = 128,\n",
        "                 num_downc_layers:int = 2,\n",
        "                 num_midc_layers:int = 2,\n",
        "                 num_upc_layers:int = 2\n",
        "                ):\n",
        "        super(Unet, self).__init__()\n",
        "\n",
        "        self.im_channels = im_channels\n",
        "        self.down_ch = down_ch\n",
        "        self.mid_ch = mid_ch\n",
        "        self.up_ch = up_ch\n",
        "        self.t_emb_dim = t_emb_dim\n",
        "        self.down_sample = down_sample\n",
        "        self.num_downc_layers = num_downc_layers\n",
        "        self.num_midc_layers = num_midc_layers\n",
        "        self.num_upc_layers = num_upc_layers\n",
        "\n",
        "        self.up_sample = list(reversed(self.down_sample))\n",
        "\n",
        "        self.cv1 = nn.Conv2d(self.im_channels, self.down_ch[0], kernel_size=3, padding=1)\n",
        "\n",
        "        self.t_proj = nn.Sequential(\n",
        "            nn.Linear(self.t_emb_dim, self.t_emb_dim),\n",
        "            nn.SiLU(),\n",
        "            nn.Linear(self.t_emb_dim, self.t_emb_dim)\n",
        "        )\n",
        "\n",
        "        self.downs = nn.ModuleList([\n",
        "            DownC(\n",
        "                self.down_ch[i],\n",
        "                self.down_ch[i+1],\n",
        "                self.t_emb_dim,\n",
        "                self.num_downc_layers,\n",
        "                self.down_sample[i]\n",
        "            ) for i in range(len(self.down_ch) - 1)\n",
        "        ])\n",
        "\n",
        "        self.mids = nn.ModuleList([\n",
        "            MidC(\n",
        "                self.mid_ch[i],\n",
        "                self.mid_ch[i+1],\n",
        "                self.t_emb_dim,\n",
        "                self.num_midc_layers\n",
        "            ) for i in range(len(self.mid_ch) - 1)\n",
        "        ])\n",
        "\n",
        "        self.ups = nn.ModuleList([\n",
        "            UpC(\n",
        "                self.up_ch[i],\n",
        "                self.up_ch[i+1],\n",
        "                self.t_emb_dim,\n",
        "                self.num_upc_layers,\n",
        "                self.up_sample[i]\n",
        "            ) for i in range(len(self.up_ch) - 1)\n",
        "        ])\n",
        "\n",
        "        self.cv2 = nn.Sequential(\n",
        "            nn.GroupNorm(8, self.up_ch[-1]),\n",
        "            nn.Conv2d(self.up_ch[-1], self.im_channels, kernel_size=3, padding=1)\n",
        "        )\n",
        "\n",
        "    def forward(self, x, t):\n",
        "\n",
        "        out = self.cv1(x)\n",
        "\n",
        "        t_emb = get_time_embedding(t, self.t_emb_dim)\n",
        "        t_emb = self.t_proj(t_emb)\n",
        "\n",
        "        down_outs = []\n",
        "\n",
        "        for down in self.downs:\n",
        "            down_outs.append(out)\n",
        "            out = down(out, t_emb)\n",
        "\n",
        "        for mid in self.mids:\n",
        "            out = mid(out, t_emb)\n",
        "\n",
        "        for up in self.ups:\n",
        "            down_out = down_outs.pop()\n",
        "            out = up(out, down_out, t_emb)\n",
        "\n",
        "        out = self.cv2(out)\n",
        "\n",
        "        return out"
      ],
      "metadata": {
        "id": "LjAA79UDwMpl"
      },
      "execution_count": 12,
      "outputs": []
    },
    {
      "cell_type": "code",
      "source": [
        "# Test\n",
        "model = Unet()\n",
        "x = torch.randn(4, 1, 32, 32)\n",
        "t = torch.randint(0, 10, (4,))\n",
        "model(x, t).shape"
      ],
      "metadata": {
        "colab": {
          "base_uri": "https://localhost:8080/"
        },
        "id": "fCKBusnswOdN",
        "outputId": "32286951-1d74-422b-c9b4-d56f4cbbbd2e"
      },
      "execution_count": 13,
      "outputs": [
        {
          "output_type": "execute_result",
          "data": {
            "text/plain": [
              "torch.Size([4, 1, 32, 32])"
            ]
          },
          "metadata": {},
          "execution_count": 13
        }
      ]
    },
    {
      "cell_type": "code",
      "source": [
        "class CONFIG:\n",
        "    model_path = 'ddpm_unet.pth'\n",
        "    num_epochs = 5\n",
        "    lr = 1e-4\n",
        "    num_timesteps = 1000\n",
        "    batch_size = 128\n",
        "    img_size = 28\n",
        "    in_channels = 1\n",
        "    num_img_to_generate = 64"
      ],
      "metadata": {
        "id": "ZgS-EPmjwP7V"
      },
      "execution_count": 14,
      "outputs": []
    },
    {
      "cell_type": "code",
      "source": [
        "import torch\n",
        "from torch.utils.data import DataLoader\n",
        "from torchvision import datasets, transforms\n",
        "\n",
        "# Dataset và Dataloader cho MNIST\n",
        "transform = transforms.Compose([\n",
        "    transforms.ToTensor(),  # Chuyển đổi ảnh sang tensor\n",
        "    transforms.Normalize((0.5,), (0.5,))  # Chuẩn hóa ảnh về phạm vi [-1, 1]\n",
        "])\n",
        "\n",
        "\n"
      ],
      "metadata": {
        "id": "a9KUsZiNw-7U"
      },
      "execution_count": 15,
      "outputs": []
    },
    {
      "cell_type": "code",
      "source": [
        "from torch.utils.data import DataLoader\n",
        "from tqdm import tqdm\n",
        "\n",
        "def train(cfg):\n",
        "\n",
        "    # Sử dụng MNIST từ torchvision\n",
        "    mnist_ds = datasets.MNIST(root='./data', train=True, download=True, transform=transform)\n",
        "\n",
        "    # Tạo DataLoader\n",
        "    mnist_dl = DataLoader(mnist_ds, batch_size=cfg.batch_size, shuffle=True)\n",
        "\n",
        "    device = torch.device('cuda' if torch.cuda.is_available() else 'cpu')\n",
        "    print(f'Device: {device}\\n')\n",
        "\n",
        "    # Initiate Model\n",
        "    model = Unet().to(device)\n",
        "\n",
        "    # Initialize Optimizer and Loss Function\n",
        "    optimizer = torch.optim.Adam(model.parameters(), lr=cfg.lr)\n",
        "    criterion = torch.nn.MSELoss()\n",
        "\n",
        "    # Diffusion Forward Process to add noise\n",
        "    dfp = DiffusionForwardProcess()\n",
        "\n",
        "    # Best Loss\n",
        "    best_eval_loss = float('inf')\n",
        "\n",
        "    # Train\n",
        "    for epoch in range(cfg.num_epochs):\n",
        "\n",
        "        # For Loss Tracking\n",
        "        losses = []\n",
        "\n",
        "        # Set model to train mode\n",
        "        model.train()\n",
        "\n",
        "        # Loop over dataloader\n",
        "        for imgs, labels in tqdm(mnist_dl):\n",
        "            # Chuyển ảnh vào device\n",
        "            imgs = imgs.to(device)\n",
        "            labels = labels.to(device)\n",
        "            # Generate noise and timestamps\n",
        "            noise = torch.randn_like(imgs).to(device)\n",
        "            t = torch.randint(0, cfg.num_timesteps, (imgs.shape[0],)).to(device)\n",
        "\n",
        "            # Add noise to the images using Forward Process\n",
        "            noisy_imgs = dfp.add_noise(imgs, noise, t)\n",
        "\n",
        "            # Avoid Gradient Accumulation\n",
        "            optimizer.zero_grad()\n",
        "\n",
        "            # Predict noise using U-net Model\n",
        "            noise_pred = model(noisy_imgs, t)\n",
        "\n",
        "            # Calculate Loss\n",
        "            loss = criterion(noise_pred, noise)\n",
        "            losses.append(loss.item())\n",
        "\n",
        "            # Backprop + Update model params\n",
        "            loss.backward()\n",
        "            optimizer.step()\n",
        "\n",
        "        # Mean Loss\n",
        "        mean_epoch_loss = np.mean(losses)\n",
        "\n",
        "        # Display\n",
        "        print('Epoch:{} | Loss : {:.4f}'.format(\n",
        "            epoch + 1,\n",
        "            mean_epoch_loss,\n",
        "        ))\n",
        "\n",
        "        # Save based on train-loss\n",
        "        if mean_epoch_loss < best_eval_loss:\n",
        "            best_eval_loss = mean_epoch_loss\n",
        "            torch.save(model, cfg.model_path)\n",
        "\n",
        "    print(f'Done training.....')"
      ],
      "metadata": {
        "id": "y5r2U2LBwZfN"
      },
      "execution_count": 16,
      "outputs": []
    },
    {
      "cell_type": "code",
      "source": [
        "# Config\n",
        "cfg = CONFIG()\n",
        "\n",
        "train(cfg)"
      ],
      "metadata": {
        "colab": {
          "base_uri": "https://localhost:8080/"
        },
        "id": "JFra9PQiwaCc",
        "outputId": "ee3dd25a-2ac4-4fc2-9f94-43e3fb5e4c65"
      },
      "execution_count": 17,
      "outputs": [
        {
          "output_type": "stream",
          "name": "stderr",
          "text": [
            "100%|██████████| 9.91M/9.91M [00:00<00:00, 57.8MB/s]\n",
            "100%|██████████| 28.9k/28.9k [00:00<00:00, 1.65MB/s]\n",
            "100%|██████████| 1.65M/1.65M [00:00<00:00, 12.4MB/s]\n",
            "100%|██████████| 4.54k/4.54k [00:00<00:00, 13.7MB/s]\n"
          ]
        },
        {
          "output_type": "stream",
          "name": "stdout",
          "text": [
            "Device: cuda\n",
            "\n"
          ]
        },
        {
          "output_type": "stream",
          "name": "stderr",
          "text": [
            "100%|██████████| 469/469 [05:24<00:00,  1.45it/s]\n"
          ]
        },
        {
          "output_type": "stream",
          "name": "stdout",
          "text": [
            "Epoch:1 | Loss : 0.1577\n"
          ]
        },
        {
          "output_type": "stream",
          "name": "stderr",
          "text": [
            "100%|██████████| 469/469 [05:25<00:00,  1.44it/s]\n"
          ]
        },
        {
          "output_type": "stream",
          "name": "stdout",
          "text": [
            "Epoch:2 | Loss : 0.0535\n"
          ]
        },
        {
          "output_type": "stream",
          "name": "stderr",
          "text": [
            "100%|██████████| 469/469 [05:25<00:00,  1.44it/s]\n"
          ]
        },
        {
          "output_type": "stream",
          "name": "stdout",
          "text": [
            "Epoch:3 | Loss : 0.0417\n"
          ]
        },
        {
          "output_type": "stream",
          "name": "stderr",
          "text": [
            "100%|██████████| 469/469 [05:25<00:00,  1.44it/s]\n"
          ]
        },
        {
          "output_type": "stream",
          "name": "stdout",
          "text": [
            "Epoch:4 | Loss : 0.0362\n"
          ]
        },
        {
          "output_type": "stream",
          "name": "stderr",
          "text": [
            "100%|██████████| 469/469 [05:25<00:00,  1.44it/s]\n"
          ]
        },
        {
          "output_type": "stream",
          "name": "stdout",
          "text": [
            "Epoch:5 | Loss : 0.0332\n",
            "Done training.....\n"
          ]
        }
      ]
    },
    {
      "cell_type": "code",
      "source": [
        "def generate(cfg):\n",
        "\n",
        "    device = torch.device('cuda' if torch.cuda.is_available() else 'cpu')\n",
        "\n",
        "    drp = DiffusionReverseProcess()\n",
        "\n",
        "    # eval mode\n",
        "    model = torch.load(cfg.model_path, weights_only=False).to(device)\n",
        "    model.eval()\n",
        "\n",
        "    # Generate Noise\n",
        "    xt = torch.randn(1, cfg.in_channels, cfg.img_size, cfg.img_size).to(device)\n",
        "\n",
        "    # Denoise\n",
        "    with torch.no_grad():\n",
        "        for t in reversed(range(cfg.num_timesteps)):\n",
        "            noise_pred = model(xt, torch.as_tensor(t).unsqueeze(0).to(device))\n",
        "            xt, x0 = drp.sample_prev_timestep(xt, noise_pred, torch.as_tensor(t).to(device))\n",
        "\n",
        "    xt = torch.clamp(xt, -1., 1.).detach().cpu()\n",
        "    xt = (xt + 1) / 2\n",
        "\n",
        "    return xt"
      ],
      "metadata": {
        "id": "Uk81TSrmwbNd"
      },
      "execution_count": 18,
      "outputs": []
    },
    {
      "cell_type": "code",
      "source": [
        "\n",
        "# Generate\n",
        "generated_imgs = []\n",
        "for i in tqdm(range(cfg.num_img_to_generate)):\n",
        "    xt = generate(cfg)\n",
        "    xt = 255 * xt[0][0].numpy()\n",
        "    generated_imgs.append(xt.astype(np.uint8).flatten())\n",
        "\n",
        "\n",
        "# Visualize\n",
        "from matplotlib import pyplot as plt\n",
        "fig, axes = plt.subplots(8, 8, figsize=(5, 5))\n",
        "\n",
        "# Plot each image in the corresponding subplot\n",
        "for i, ax in enumerate(axes.flat):\n",
        "    ax.imshow(np.reshape(generated_imgs[i], (28, 28)), cmap='gray')\n",
        "    ax.axis('off')\n",
        "\n",
        "plt.tight_layout()\n",
        "plt.show()"
      ],
      "metadata": {
        "colab": {
          "base_uri": "https://localhost:8080/",
          "height": 524
        },
        "id": "ar4XB4tZweLc",
        "outputId": "52f00479-7c82-4128-b799-4934bb3da3e9"
      },
      "execution_count": 19,
      "outputs": [
        {
          "output_type": "stream",
          "name": "stderr",
          "text": [
            "100%|██████████| 64/64 [20:52<00:00, 19.57s/it]\n"
          ]
        },
        {
          "output_type": "display_data",
          "data": {
            "text/plain": [
              "<Figure size 500x500 with 64 Axes>"
            ],
            "image/png": "[encoded data removed]"
          },
          "metadata": {}
        }
      ]
    },
    {
      "cell_type": "code",
      "source": [
        "# Visualize\n",
        "from matplotlib import pyplot as plt\n",
        "\n",
        "# Tạo một subplot với 1 ảnh duy nhất\n",
        "fig, ax = plt.subplots(1, 1, figsize=(5, 5))\n",
        "\n",
        "# Vẽ ảnh đầu tiên\n",
        "ax.imshow(np.reshape(generated_imgs[0], (28, 28)), cmap='gray')\n",
        "ax.axis('off')  # Tắt các trục\n",
        "\n",
        "plt.tight_layout()\n",
        "plt.show()\n"
      ],
      "metadata": {
        "colab": {
          "base_uri": "https://localhost:8080/",
          "height": 507
        },
        "id": "9wX1rPE908JZ",
        "outputId": "af3ba50e-32db-4b85-f963-4bb4736ed8d4"
      },
      "execution_count": 20,
      "outputs": [
        {
          "output_type": "display_data",
          "data": {
            "text/plain": [
              "<Figure size 500x500 with 1 Axes>"
            ],
            "image/png": "[encoded data removed]"
          },
          "metadata": {}
        }
      ]
    }
  ]
}